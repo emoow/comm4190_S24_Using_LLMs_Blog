{
 "cells": [
  {
   "cell_type": "raw",
   "id": "9b4f251f-a3df-41c2-8ecd-eba64cd51071",
   "metadata": {},
   "source": [
    "---\n",
    "title: \"Why my lux isn't working\"\n",
    "description: \"I can't upload my theme\"\n",
    "author: \"Pity Emoo\"\n",
    "date: \"2/6/2024\"\n",
    "categories:\n",
    "  -LLMs\n",
    "\n",
    "---"
   ]
  },
  {
   "cell_type": "raw",
   "id": "7490c405-5831-4af7-8561-a723de37b3cf",
   "metadata": {},
   "source": [
    "This is a blog"
   ]
  }
 ],
 "metadata": {
  "citation-manager": {
   "items": {}
  },
  "kernelspec": {
   "display_name": "Python 3.11 (COMM4190)",
   "language": "python",
   "name": "comm4190"
  },
  "language_info": {
   "codemirror_mode": {
    "name": "ipython",
    "version": 3
   },
   "file_extension": ".py",
   "mimetype": "text/x-python",
   "name": "python",
   "nbconvert_exporter": "python",
   "pygments_lexer": "ipython3",
   "version": "3.11.7"
  }
 },
 "nbformat": 4,
 "nbformat_minor": 5
}
