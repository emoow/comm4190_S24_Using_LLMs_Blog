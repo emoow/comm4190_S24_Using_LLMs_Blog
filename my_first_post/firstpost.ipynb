{
 "cells": [
  {
   "cell_type": "raw",
   "id": "9b4f251f-a3df-41c2-8ecd-eba64cd51071",
   "metadata": {},
   "source": [
    "---\n",
    "title: \"Why my lux isn't working\"\n",
    "description: \"I can't upload my theme\"\n",
    "author: \"Pity Emoo\"\n",
    "date: \"2/6/2024\"\n",
    "categories:\n",
    "  -LLMs\n",
    "\n",
    "---"
   ]
  },
  {
   "cell_type": "markdown",
   "id": "3c72cabf-f56d-4939-a836-98618b25c0db",
   "metadata": {},
   "source": [
    "This is a blog"
   ]
  },
  {
   "cell_type": "markdown",
   "id": "747a45ce-0e9f-4eec-a77b-28cee5f83681",
   "metadata": {},
   "source": [
    "blogblogblogblog"
   ]
  },
  {
   "cell_type": "code",
   "execution_count": null,
   "id": "839db80e-3a6e-48e3-a74e-524640841ae5",
   "metadata": {},
   "outputs": [],
   "source": []
  }
 ],
 "metadata": {
  "citation-manager": {
   "items": {}
  },
  "kernelspec": {
   "display_name": "Python 3.11 (COMM4190)",
   "language": "python",
   "name": "comm4190"
  },
  "language_info": {
   "codemirror_mode": {
    "name": "ipython",
    "version": 3
   },
   "file_extension": ".py",
   "mimetype": "text/x-python",
   "name": "python",
   "nbconvert_exporter": "python",
   "pygments_lexer": "ipython3",
   "version": "3.11.7"
  }
 },
 "nbformat": 4,
 "nbformat_minor": 5
}
