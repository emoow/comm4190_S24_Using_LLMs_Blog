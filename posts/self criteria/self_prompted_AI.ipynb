{
 "cells": [
  {
   "cell_type": "raw",
   "id": "2575aa38-d097-4680-9cf4-6f509426654a",
   "metadata": {},
   "source": [
    "---\n",
    "title: \"Can AI improve itself?\"\n",
    "description: \"A blog to make LLMs rating and refining themselves \"\n",
    "author: \"Emoo\"\n",
    "date: \"2/20/2024\"\n",
    "categories:\n",
    "  - LLMs\n",
    "  - prompt\n",
    "---"
   ]
  },
  {
   "cell_type": "markdown",
   "id": "57785759-a721-41d0-b1dc-ae1b1ab5eb32",
   "metadata": {},
   "source": [
    "Can we make LLMs to prompt itself and refine its prompt using its own criteria to realize self improvement?"
   ]
  },
  {
   "cell_type": "code",
   "execution_count": null,
   "id": "71ddc63e-d8e8-49dc-8f90-bcd0061c7f73",
   "metadata": {},
   "outputs": [],
   "source": []
  }
 ],
 "metadata": {
  "citation-manager": {
   "items": {}
  },
  "kernelspec": {
   "display_name": "Python 3.8",
   "language": "python",
   "name": "python3"
  },
  "language_info": {
   "codemirror_mode": {
    "name": "ipython",
    "version": 3
   },
   "file_extension": ".py",
   "mimetype": "text/x-python",
   "name": "python",
   "nbconvert_exporter": "python",
   "pygments_lexer": "ipython3",
   "version": "3.8.8"
  }
 },
 "nbformat": 4,
 "nbformat_minor": 5
}
