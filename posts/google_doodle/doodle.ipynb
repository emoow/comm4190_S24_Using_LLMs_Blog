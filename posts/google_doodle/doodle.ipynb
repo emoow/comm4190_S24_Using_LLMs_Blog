{
 "cells": [
  {
   "cell_type": "raw",
   "id": "1f969bf5-4bed-41ce-8132-3bfe55c2b775",
   "metadata": {},
   "source": [
    "---\n",
    "title: \"How do LLMs like doodles?\"\n",
    "description: \"An article to explore whether the LLMs understand and are able to use the basic phylosophy concepts like the self of Sartre.\"\n",
    "author: \"Desperate Emoo\"\n",
    "date: \"2/8/2024\"\n",
    "categories:\n",
    "  - LLMs\n",
    "  - Philosophy\n",
    "  - Sartre\n",
    "  - Existence\n",
    "---"
   ]
  }
 ],
 "metadata": {
  "citation-manager": {
   "items": {}
  },
  "kernelspec": {
   "display_name": "Python 3.11 (COMM4190)",
   "language": "python",
   "name": "comm4190"
  },
  "language_info": {
   "codemirror_mode": {
    "name": "ipython",
    "version": 3
   },
   "file_extension": ".py",
   "mimetype": "text/x-python",
   "name": "python",
   "nbconvert_exporter": "python",
   "pygments_lexer": "ipython3",
   "version": "3.11.7"
  }
 },
 "nbformat": 4,
 "nbformat_minor": 5
}
