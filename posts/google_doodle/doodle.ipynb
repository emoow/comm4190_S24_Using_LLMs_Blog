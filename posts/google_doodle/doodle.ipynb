{
 "cells": [
  {
   "cell_type": "raw",
   "id": "1f969bf5-4bed-41ce-8132-3bfe55c2b775",
   "metadata": {},
   "source": [
    "---\n",
    "title: \"How do LLMs like doodles?\"\n",
    "description: \"This is a blog about the understanding of doodles by LLMs. Can they understand complicated combination between words and culture?\"\n",
    "author: \"Desperate Emoo\"\n",
    "date: \"3/26/2024\"\n",
    "categories:\n",
    "  - LLMs\n",
    "  - Doodles\n",
    "  - Symbol\n",
    "  - Picture description\n",
    "---"
   ]
  },
  {
   "cell_type": "code",
   "execution_count": null,
   "id": "b4f68d62-2ea4-4e0e-8912-7a46c3698bb0",
   "metadata": {},
   "outputs": [],
   "source": []
  }
 ],
 "metadata": {
  "citation-manager": {
   "items": {}
  },
  "kernelspec": {
   "display_name": "Python 3.11 (COMM4190)",
   "language": "python",
   "name": "comm4190"
  },
  "language_info": {
   "codemirror_mode": {
    "name": "ipython",
    "version": 3
   },
   "file_extension": ".py",
   "mimetype": "text/x-python",
   "name": "python",
   "nbconvert_exporter": "python",
   "pygments_lexer": "ipython3",
   "version": "3.11.7"
  }
 },
 "nbformat": 4,
 "nbformat_minor": 5
}
