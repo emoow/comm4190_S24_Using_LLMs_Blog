{
 "cells": [
  {
   "cell_type": "code",
   "execution_count": null,
   "id": "609b39b5-c74e-4091-95c8-543877c202f9",
   "metadata": {},
   "outputs": [],
   "source": [
    "---\n",
    "title: \"Metaso, the most powerful Chinese academic LLM.\"\n",
    "description: \"A brief introduction and exploration of metaso..\"\n",
    "author: \"Emoo\"\n",
    "date: \"4/22/2024\"\n",
    "categories:\n",
    "  - LLMs\n",
    "  - music\n",
    "  - prompt\n",
    "---"
   ]
  },
  {
   "cell_type": "markdown",
   "id": "8fc90663-45da-4e65-a6a3-0bb5971ebfc0",
   "metadata": {},
   "source": [
    "First, we prompt alloma to generate lyrics."
   ]
  },
  {
   "cell_type": "markdown",
   "id": "2e313cca-4605-402f-9c5d-d645fb9517c7",
   "metadata": {},
   "source": [
    "prompt: Generate lyric of a song based on this paragraph: Drugster, dancer in club, with inpure relationship between several men, Mimi seems as a typical gang girl in 1990s New York. However, when she actually met the love, she was frank and unfaired. Though she was too sexy for her age of 19, she still hold on to the purity of love. When Roger suspected her and Benny, she bluntly asked trust from her lover. It was the truth that her struggled in drugs and disease, but as she said, Its a living.\n",
    "\n",
    "Christine and Mimi were quite other girls as the similar age in entirely different society. It is fun to be aware of the conventional girl maid in literary and artistic works who always seeks for love and hold her purity regardless of the difficults and hits of life. What’s more, girls are not always as pure as white paper. To Christine, the contact with fantom was secret and finally shocked the surrundings. To Mimi, she was the embodiment of girlhood rebel and crime."
   ]
  },
  {
   "cell_type": "markdown",
   "id": "94474464-64e6-43ec-a16b-2bc7bd8f6739",
   "metadata": {},
   "source": [
    "Here is a song lyric based on the provided paragraph:\n",
    "\n",
    "Verse 1:\n",
    "Mimi, the dancer in the club\n",
    "Caught up in an impure love\n",
    "With men who just want to use\n",
    "But she's searching for something true\n",
    "\n",
    "Chorus:\n",
    "It's a living, she'll say\n",
    "Though the drugs and disease take their toll\n",
    "She holds on to the purity of love\n",
    "Even as her world takes its toll\n",
    "\n",
    "Verse 2:\n",
    "Christine and Mimi, two girls the same\n",
    "But worlds apart, they play different games\n",
    "One seeks the love she's always dreamed \n",
    "The other, a rebel, her true self unseemed\n",
    "\n",
    "Chorus:\n",
    "It's a living, she'll say\n",
    "Though the drugs and disease take their toll\n",
    "She holds on to the purity of love\n",
    "Even as her world takes its toll\n",
    "\n",
    "Bridge:\n",
    "She bluntly asks for trust from her love\n",
    "As she struggles with the pain from above\n",
    "But the truth of her life, she'll never hide\n",
    "This is the path that she must now stride\n",
    "\n",
    "Chorus:\n",
    "It's a living, she'll say\n",
    "Though the drugs and disease take their toll\n",
    "She holds on to the purity of love\n",
    "Even as her world takes its toll"
   ]
  },
  {
   "cell_type": "markdown",
   "id": "86800f7e-ab32-4b6b-86e2-48711db829c9",
   "metadata": {},
   "source": [
    "(Verse 1)\n",
    "In the heart of New York City, in the 90s scene\n",
    "A drugster, a dancer, a girl named Mimi\n",
    "With many men, in impure relations\n",
    "She seemed like a typical gang girl in the nation\n",
    "\n",
    "But when love found her, she was frank and fair\n",
    "With Roger, she asked for trust, without a care\n",
    "Though young, just nineteen, she held onto love's purity\n",
    "In the midst of drugs and disease, she lived her reality\n",
    "\n",
    "(Chorus)\n",
    "Mimi, a living embodiment\n",
    "Of a girlhood rebellion, a crime representation\n",
    "Christine, a literary figure\n",
    "In a different world, seeking love, pure and true\n",
    "\n",
    "(Verse 2)\n",
    "Christine, a maiden in a different time\n",
    "In literature and art, her love did shine\n",
    "Secret trysts, a phantom in her life\n",
    "Shocking society, igniting strife\n",
    "\n",
    "Not always pure, not always white\n",
    "Girls like Mimi, living their plight\n",
    "In the heart of New York City, in the 90s scene\n",
    "A drugster, a dancer, a girl named Mimi</s>"
   ]
  }
 ],
 "metadata": {
  "citation-manager": {
   "items": {}
  },
  "kernelspec": {
   "display_name": "Python 3.11 (COMM4190)",
   "language": "python",
   "name": "comm4190"
  },
  "language_info": {
   "codemirror_mode": {
    "name": "ipython",
    "version": 3
   },
   "file_extension": ".py",
   "mimetype": "text/x-python",
   "name": "python",
   "nbconvert_exporter": "python",
   "pygments_lexer": "ipython3",
   "version": "3.11.7"
  }
 },
 "nbformat": 4,
 "nbformat_minor": 5
}
