{
 "cells": [
  {
   "cell_type": "raw",
   "id": "9b4f251f-a3df-41c2-8ecd-eba64cd51071",
   "metadata": {},
   "source": [
    "---\n",
    "title: \"First post\"\n",
    "description: \"An attempt\"\n",
    "author: \"Desperate Emoo\"\n",
    "date: \"2/2/2024\"\n",
    "categories:\n",
    "  - LLMs\n",
    "  - prompting\n",
    "  - logic\n",
    "---"
   ]
  },
  {
   "cell_type": "markdown",
   "id": "3c72cabf-f56d-4939-a836-98618b25c0db",
   "metadata": {},
   "source": [
    "*This is a blog*"
   ]
  },
  {
   "attachments": {},
   "cell_type": "markdown",
   "id": "747a45ce-0e9f-4eec-a77b-28cee5f83681",
   "metadata": {},
   "source": [
    "### blogblogblogblog\n",
    "\n",
    "\n",
    "![](test.jpg)"
   ]
  },
  {
   "cell_type": "markdown",
   "id": "a00a7baf-729b-4fae-b581-d13c71d2d484",
   "metadata": {},
   "source": []
  }
 ],
 "metadata": {
  "citation-manager": {
   "items": {}
  },
  "kernelspec": {
   "display_name": "Python 3.11 (COMM4190)",
   "language": "python",
   "name": "comm4190"
  },
  "language_info": {
   "codemirror_mode": {
    "name": "ipython",
    "version": 3
   },
   "file_extension": ".py",
   "mimetype": "text/x-python",
   "name": "python",
   "nbconvert_exporter": "python",
   "pygments_lexer": "ipython3",
   "version": "3.11.7"
  }
 },
 "nbformat": 4,
 "nbformat_minor": 5
}
